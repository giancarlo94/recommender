{
 "cells": [
  {
   "cell_type": "markdown",
   "metadata": {},
   "source": [
    "# Recommender Systems Assignment"
   ]
  },
  {
   "cell_type": "markdown",
   "metadata": {},
   "source": [
    "## Introduction"
   ]
  },
  {
   "cell_type": "markdown",
   "metadata": {},
   "source": [
    "The purpose of this notebook is the comparison of two approaches for recommender systems:\n",
    "\n",
    "1. Collaborative filtering without neural component\n",
    "2. Autoencoder\n",
    "\n",
    "The small education MovieLens dataset (100,000 ratings and 3,600 tag applications applied to 9,000 movies by 600 users. Last updated 9/2018) was used for this purpose. [1]"
   ]
  },
  {
   "cell_type": "markdown",
   "metadata": {},
   "source": [
    "### Data set"
   ]
  },
  {
   "cell_type": "markdown",
   "metadata": {},
   "source": [
    "From the readme:\n",
    "\n",
    "\"This dataset (ml-latest-small) describes 5-star rating and free-text tagging activity from MovieLens, a movie recommendation service. It contains 100836 ratings and 3683 tag applications across 9742 movies. These data were created by 610 users between March 29, 1996 and September 24, 2018. This dataset was generated on September 26, 2018.\n",
    "\n",
    "Users were selected at random for inclusion. All selected users had rated at least 20 movies. No demographic information is included. Each user is represented by an id, and no other information is provided.\n",
    "\n",
    "The data are contained in the files links.csv, movies.csv, ratings.csv and tags.csv. More details about the contents and use of all these files follows.\n",
    "\n",
    "This is a development dataset. As such, it may change over time and is not an appropriate dataset for shared research results. See available benchmark datasets if that is your intent.\n",
    "\n",
    "This and other GroupLens data sets are publicly available for download at http://grouplens.org/datasets/.\""
   ]
  },
  {
   "cell_type": "markdown",
   "metadata": {},
   "source": [
    "## Evaluation criteria"
   ]
  },
  {
   "cell_type": "markdown",
   "metadata": {},
   "source": [
    "I used MAE as a performance metric. This may be not the best metric to evaluate recommender systems. Another approach would have been to use the \"precision at top k\" metric which shows the percentage of recommendations in the users top k withheld ratings."
   ]
  },
  {
   "cell_type": "markdown",
   "metadata": {},
   "source": [
    "### Data exploration"
   ]
  },
  {
   "cell_type": "code",
   "execution_count": 3,
   "metadata": {},
   "outputs": [],
   "source": [
    "import numpy as np\n",
    "import pandas as pd\n",
    "import matplotlib.pyplot as plt\n",
    "import math\n",
    "\n",
    "%matplotlib inline"
   ]
  },
  {
   "cell_type": "code",
   "execution_count": 4,
   "metadata": {},
   "outputs": [
    {
     "data": {
      "text/html": [
       "<div>\n",
       "<style scoped>\n",
       "    .dataframe tbody tr th:only-of-type {\n",
       "        vertical-align: middle;\n",
       "    }\n",
       "\n",
       "    .dataframe tbody tr th {\n",
       "        vertical-align: top;\n",
       "    }\n",
       "\n",
       "    .dataframe thead th {\n",
       "        text-align: right;\n",
       "    }\n",
       "</style>\n",
       "<table border=\"1\" class=\"dataframe\">\n",
       "  <thead>\n",
       "    <tr style=\"text-align: right;\">\n",
       "      <th></th>\n",
       "      <th>userId</th>\n",
       "      <th>movieId</th>\n",
       "      <th>rating</th>\n",
       "      <th>timestamp</th>\n",
       "    </tr>\n",
       "  </thead>\n",
       "  <tbody>\n",
       "    <tr>\n",
       "      <th>0</th>\n",
       "      <td>1</td>\n",
       "      <td>1</td>\n",
       "      <td>4.0</td>\n",
       "      <td>964982703</td>\n",
       "    </tr>\n",
       "    <tr>\n",
       "      <th>1</th>\n",
       "      <td>1</td>\n",
       "      <td>3</td>\n",
       "      <td>4.0</td>\n",
       "      <td>964981247</td>\n",
       "    </tr>\n",
       "    <tr>\n",
       "      <th>2</th>\n",
       "      <td>1</td>\n",
       "      <td>6</td>\n",
       "      <td>4.0</td>\n",
       "      <td>964982224</td>\n",
       "    </tr>\n",
       "    <tr>\n",
       "      <th>3</th>\n",
       "      <td>1</td>\n",
       "      <td>47</td>\n",
       "      <td>5.0</td>\n",
       "      <td>964983815</td>\n",
       "    </tr>\n",
       "    <tr>\n",
       "      <th>4</th>\n",
       "      <td>1</td>\n",
       "      <td>50</td>\n",
       "      <td>5.0</td>\n",
       "      <td>964982931</td>\n",
       "    </tr>\n",
       "  </tbody>\n",
       "</table>\n",
       "</div>"
      ],
      "text/plain": [
       "   userId  movieId  rating  timestamp\n",
       "0       1        1     4.0  964982703\n",
       "1       1        3     4.0  964981247\n",
       "2       1        6     4.0  964982224\n",
       "3       1       47     5.0  964983815\n",
       "4       1       50     5.0  964982931"
      ]
     },
     "execution_count": 4,
     "metadata": {},
     "output_type": "execute_result"
    }
   ],
   "source": [
    "ratings_file_path = './ml-latest-small/ratings.csv'\n",
    "movies_file_path = './ml-latest-small/movies.csv'\n",
    "\n",
    "# Load movies data\n",
    "movies = pd.read_csv(movies_file_path)\n",
    "# Load ratings data\n",
    "df = pd.read_csv(ratings_file_path)\n",
    "df.head()"
   ]
  },
  {
   "cell_type": "code",
   "execution_count": 5,
   "metadata": {},
   "outputs": [
    {
     "data": {
      "text/plain": [
       "0"
      ]
     },
     "execution_count": 5,
     "metadata": {},
     "output_type": "execute_result"
    }
   ],
   "source": [
    "# Check for NaN values -> no NaN values\n",
    "df.isnull().sum().sum()"
   ]
  },
  {
   "cell_type": "code",
   "execution_count": 6,
   "metadata": {},
   "outputs": [
    {
     "name": "stdout",
     "output_type": "stream",
     "text": [
      "Minimum rating in frame: 0.5\n",
      "Maximum rating in frame: 5.0\n"
     ]
    }
   ],
   "source": [
    "# Min and Max of the rating column to check for anomalies\n",
    "print(f'Minimum rating in frame: {df[\"rating\"].min()}')\n",
    "print(f'Maximum rating in frame: {df[\"rating\"].max()}')"
   ]
  },
  {
   "cell_type": "code",
   "execution_count": 7,
   "metadata": {},
   "outputs": [
    {
     "data": {
      "text/plain": [
       "array([[<matplotlib.axes._subplots.AxesSubplot object at 0x1a1c1b2438>]],\n",
       "      dtype=object)"
      ]
     },
     "execution_count": 7,
     "metadata": {},
     "output_type": "execute_result"
    },
    {
     "data": {
      "image/png": "[encoded data removed]",
      "text/plain": [
       "<Figure size 432x288 with 1 Axes>"
      ]
     },
     "metadata": {
      "needs_background": "light"
     },
     "output_type": "display_data"
    }
   ],
   "source": [
    "# Histogramm of the ratings\n",
    "df.hist(column='rating')"
   ]
  },
  {
   "cell_type": "code",
   "execution_count": 8,
   "metadata": {},
   "outputs": [
    {
     "name": "stdout",
     "output_type": "stream",
     "text": [
      "Number of unique users: 610\n",
      "Number of unique movies: 9724\n",
      "The average rating is 3.501556983616962 and the 50th percentile is: 3.5\n"
     ]
    }
   ],
   "source": [
    "# Number of users and movies\n",
    "print(f'Number of unique users: {df[\"userId\"].nunique()}')\n",
    "print(f'Number of unique movies: {df[\"movieId\"].nunique()}')\n",
    "\n",
    "# Average rating and 50th percentile of all movies\n",
    "print(f'The average rating is {df[\"rating\"].mean()} and the 50th percentile is: {df[\"rating\"].quantile(.5)}')"
   ]
  },
  {
   "cell_type": "code",
   "execution_count": 9,
   "metadata": {},
   "outputs": [
    {
     "data": {
      "text/html": [
       "<div>\n",
       "<style scoped>\n",
       "    .dataframe tbody tr th:only-of-type {\n",
       "        vertical-align: middle;\n",
       "    }\n",
       "\n",
       "    .dataframe tbody tr th {\n",
       "        vertical-align: top;\n",
       "    }\n",
       "\n",
       "    .dataframe thead th {\n",
       "        text-align: right;\n",
       "    }\n",
       "</style>\n",
       "<table border=\"1\" class=\"dataframe\">\n",
       "  <thead>\n",
       "    <tr style=\"text-align: right;\">\n",
       "      <th></th>\n",
       "      <th>userId</th>\n",
       "      <th>count</th>\n",
       "    </tr>\n",
       "  </thead>\n",
       "  <tbody>\n",
       "    <tr>\n",
       "      <th>441</th>\n",
       "      <td>442</td>\n",
       "      <td>20</td>\n",
       "    </tr>\n",
       "    <tr>\n",
       "      <th>405</th>\n",
       "      <td>406</td>\n",
       "      <td>20</td>\n",
       "    </tr>\n",
       "    <tr>\n",
       "      <th>146</th>\n",
       "      <td>147</td>\n",
       "      <td>20</td>\n",
       "    </tr>\n",
       "    <tr>\n",
       "      <th>193</th>\n",
       "      <td>194</td>\n",
       "      <td>20</td>\n",
       "    </tr>\n",
       "    <tr>\n",
       "      <th>568</th>\n",
       "      <td>569</td>\n",
       "      <td>20</td>\n",
       "    </tr>\n",
       "  </tbody>\n",
       "</table>\n",
       "</div>"
      ],
      "text/plain": [
       "     userId  count\n",
       "441     442     20\n",
       "405     406     20\n",
       "146     147     20\n",
       "193     194     20\n",
       "568     569     20"
      ]
     },
     "execution_count": 9,
     "metadata": {},
     "output_type": "execute_result"
    }
   ],
   "source": [
    "# Users who rated the least amount of movies --> each user rated at least 20 movies\n",
    "df.groupby('userId')['userId'].count() \\\n",
    "                              .reset_index(name='count') \\\n",
    "                              .sort_values(['count']) \\\n",
    "                              .head()"
   ]
  },
  {
   "cell_type": "code",
   "execution_count": 10,
   "metadata": {},
   "outputs": [
    {
     "data": {
      "text/html": [
       "<div>\n",
       "<style scoped>\n",
       "    .dataframe tbody tr th:only-of-type {\n",
       "        vertical-align: middle;\n",
       "    }\n",
       "\n",
       "    .dataframe tbody tr th {\n",
       "        vertical-align: top;\n",
       "    }\n",
       "\n",
       "    .dataframe thead th {\n",
       "        text-align: right;\n",
       "    }\n",
       "</style>\n",
       "<table border=\"1\" class=\"dataframe\">\n",
       "  <thead>\n",
       "    <tr style=\"text-align: right;\">\n",
       "      <th></th>\n",
       "      <th>userId</th>\n",
       "      <th>count</th>\n",
       "    </tr>\n",
       "  </thead>\n",
       "  <tbody>\n",
       "    <tr>\n",
       "      <th>273</th>\n",
       "      <td>274</td>\n",
       "      <td>1346</td>\n",
       "    </tr>\n",
       "    <tr>\n",
       "      <th>447</th>\n",
       "      <td>448</td>\n",
       "      <td>1864</td>\n",
       "    </tr>\n",
       "    <tr>\n",
       "      <th>473</th>\n",
       "      <td>474</td>\n",
       "      <td>2108</td>\n",
       "    </tr>\n",
       "    <tr>\n",
       "      <th>598</th>\n",
       "      <td>599</td>\n",
       "      <td>2478</td>\n",
       "    </tr>\n",
       "    <tr>\n",
       "      <th>413</th>\n",
       "      <td>414</td>\n",
       "      <td>2698</td>\n",
       "    </tr>\n",
       "  </tbody>\n",
       "</table>\n",
       "</div>"
      ],
      "text/plain": [
       "     userId  count\n",
       "273     274   1346\n",
       "447     448   1864\n",
       "473     474   2108\n",
       "598     599   2478\n",
       "413     414   2698"
      ]
     },
     "execution_count": 10,
     "metadata": {},
     "output_type": "execute_result"
    }
   ],
   "source": [
    "# Users who rated the most amount of movies\n",
    "df.groupby('userId')['userId'].count() \\\n",
    "                              .reset_index(name='count') \\\n",
    "                              .sort_values(['count']) \\\n",
    "                              .tail()"
   ]
  },
  {
   "cell_type": "markdown",
   "metadata": {},
   "source": [
    "## Collaborative filtering approach"
   ]
  },
  {
   "cell_type": "markdown",
   "metadata": {},
   "source": [
    "In this section an item-item collaborative filtering approach will be laid down. In the first part the algorithm to predict a certain rating of user x for movie y will be established. The second part will evalute this approach."
   ]
  },
  {
   "cell_type": "markdown",
   "metadata": {},
   "source": [
    "### Implemented algorithm"
   ]
  },
  {
   "cell_type": "code",
   "execution_count": 11,
   "metadata": {},
   "outputs": [],
   "source": [
    "from sklearn.metrics.pairwise import cosine_similarity"
   ]
  },
  {
   "cell_type": "code",
   "execution_count": 78,
   "metadata": {},
   "outputs": [],
   "source": [
    "# Creating the utility matrix\n",
    "# This may be not possible with a very large dataset but with the size of this data set it works fine\n",
    "utility_matrix = df.pivot(index='movieId', columns='userId', values='rating')"
   ]
  },
  {
   "cell_type": "markdown",
   "metadata": {},
   "source": [
    "Creating the similarity matrix has a time complexity of O(n*(n-1)/2) (approx. n^2) and the siliarity matrix has to be updated periodically (perhaps once a day) so new user ratings get included."
   ]
  },
  {
   "cell_type": "code",
   "execution_count": 79,
   "metadata": {},
   "outputs": [],
   "source": [
    "def create_sim_matrix(utility_matrix):\n",
    "    # Calculating the mean rating for each movie (we need this to normalize the ratings for the centered cosine similarity)\n",
    "    mu = utility_matrix.mean(axis=1, skipna=True).reset_index(name='mu')\n",
    "\n",
    "    # Converting the df into a an array to subtract from the utility matrix df\n",
    "    mu = mu['mu'].values\n",
    "    \n",
    "    # Subtracting the mean from the ratings and filling the NaN values of the utility matrix with zeroes\n",
    "    utma_norm = utility_matrix.sub(mu, axis='rows')\n",
    "    utma_norm_filled = utma_norm.fillna(0)\n",
    "    \n",
    "    # calculate a similarity matrix (similarity between two items) --> shape is (9724,9724). Using cosine similarity\n",
    "    sim_matrix = cosine_similarity(utma_norm_filled)\n",
    "    \n",
    "    return sim_matrix, mu, utma_norm"
   ]
  },
  {
   "cell_type": "code",
   "execution_count": 80,
   "metadata": {},
   "outputs": [],
   "source": [
    "sim_matrix, mu, normalized_utility_matrix = create_sim_matrix(utility_matrix)"
   ]
  },
  {
   "cell_type": "code",
   "execution_count": 102,
   "metadata": {},
   "outputs": [],
   "source": [
    "# Predicts the rating for movie x by user y with a certain neighborhood_size\n",
    "def predict_rating(movie_x, user_y, neighborhood_size, sim_matrix, mu, utility_matrix, normalized_utility_matrix):\n",
    "    # Get the indices of all movies rated by user_y\n",
    "    movie_vector = normalized_utility_matrix.iloc[:, user_y].values\n",
    "    indices = np.argwhere(~np.isnan(movie_vector))\n",
    "    \n",
    "    # Get the ratings of similar movies which also were rated by user_y\n",
    "    sim_values = dict()\n",
    "    for index in indices:\n",
    "        index = index[0]\n",
    "        sim_value = sim_matrix[movie_x][index]\n",
    "        sim_values[index] = sim_value\n",
    "\n",
    "    # Sort the dict by value --> results in an array from which I take the neighborhood_size + 1 top items\n",
    "    sim_sorted = sorted(sim_values.items(), key=lambda x: x[1], reverse=True)\n",
    "    neighbors = sim_sorted[:neighborhood_size+1]\n",
    "    \n",
    "    # Calculate the weighted average --> other metrics may result in better predictions \n",
    "    weighted_average = 0\n",
    "    norm_term = 0\n",
    "    \n",
    "    # Variable to check if movie_x itself is in neighborhood\n",
    "    self_similarity = False    \n",
    "    \n",
    "    for index, (movie_index, sim_value) in enumerate(neighbors):\n",
    "        \n",
    "        # Check if movie_x is in the neighborhood, if yes skip this loop\n",
    "        if movie_index == movie_x:\n",
    "            self_similarity = True\n",
    "            continue\n",
    "            \n",
    "        norm_term += sim_value\n",
    "        rating = utility_matrix.iloc[movie_index,user_y]\n",
    "        weighted_average += sim_value*rating\n",
    "        \n",
    "        # If the movie_x was not in the neighborhood, abort for loop when index == neighborhood_size \n",
    "        if not self_similarity and (index == neighborhood_size):\n",
    "            break\n",
    "            \n",
    "        \n",
    "    # If no prediction can be made, predict the mean rating of the movie\n",
    "    # This is the case if norm_term == 0\n",
    "    if norm_term == 0:\n",
    "        return mu[movie_x]\n",
    "\n",
    "    predicted_rating = weighted_average / norm_term\n",
    "    \n",
    "    # If no prediction can be made, predict the mean rating of the movie\n",
    "    # This may be the case in a cold start scenario\n",
    "    if np.isnan(predicted_rating):\n",
    "        return mu[movie_x]\n",
    "    \n",
    "    return predicted_rating"
   ]
  },
  {
   "cell_type": "markdown",
   "metadata": {},
   "source": [
    "### Evaluating the approach"
   ]
  },
  {
   "cell_type": "markdown",
   "metadata": {},
   "source": [
    "To evaluate this approach a Test set will be split from the utility matrix. Following the split, predictions will be made for the already known, but to the system withheld, ratings. These predictions will be compared with the actual ratings with the help of the MAE metric. **T** are all the known ratings in the test set. I chose this metric because it is pretty easy to interpret (mean deviation of a predicted rating from the actual rating):"
   ]
  },
  {
   "cell_type": "markdown",
   "metadata": {},
   "source": [
    "$$\n",
    "MAE = \\frac{\\sum_{(x,i)\\in T} |(\\hat{r}_{x,i}-r_{x,i})|}{N} \\\\\n",
    "\\begin{align}\n",
    "\\hat{r}_{x,i} = \\textrm{predicted rating} && r_{x,i} = \\textrm{actual rating} && N = |T| \n",
    "\\end{align}\n",
    "$$"
   ]
  },
  {
   "cell_type": "markdown",
   "metadata": {},
   "source": [
    "A part of the ratings of the utility matrix will be erased, so we can evaluated on this part with the MAE. Like shown in this image [3]:\n",
    "![Test set split](images/test_set.png \"Test set split\")\n",
    "\n"
   ]
  },
  {
   "cell_type": "code",
   "execution_count": 103,
   "metadata": {},
   "outputs": [],
   "source": [
    "# Create dataset with part of the utility matrix erased, to calculate RMSE\n",
    "num_users_not_known = int(df[\"userId\"].nunique() * 0.3)\n",
    "num_ratings_not_known = int(df[\"movieId\"].nunique() * 0.3)\n",
    "\n",
    "# Creating the utility matrix\n",
    "# This may be not possible with a very large dataset but with the size of this data set it works fine\n",
    "utility_matrix = df.pivot(index='movieId', columns='userId', values='rating')\n",
    "# print(utility_matrix.head)\n",
    "# Get a slice out of the original utility matrix\n",
    "known_ratings = utility_matrix.iloc[:num_ratings_not_known,:num_users_not_known]\n",
    "\n",
    "# Subtract this slice from the original utility matrix, thus setting the ratings to 0 in this part \n",
    "# and recombine it with the original utility matrix \n",
    "training_data = utility_matrix.subtract(known_ratings).combine_first(utility_matrix).reindex_like(utility_matrix)"
   ]
  },
  {
   "cell_type": "code",
   "execution_count": 104,
   "metadata": {},
   "outputs": [],
   "source": [
    "# Calculates MAE for a given neighborhood size and sim_matrix\n",
    "def calc_MAE(neighborhood_size, sim_matrix, mu, utility_matrix, normalized_utility_matrix, naive=False):\n",
    "    \n",
    "    MAE = 0\n",
    "    counter = 0\n",
    "    for user in range(num_users_not_known):\n",
    "        for movie in range(num_ratings_not_known):\n",
    "            # Check if user rated movie in original dataset\n",
    "            if np.isnan(utility_matrix.iloc[movie, user]):\n",
    "                continue\n",
    "                \n",
    "            # Increase the MSE\n",
    "            if naive:\n",
    "                MAE += np.abs(mu[movie] - utility_matrix.iloc[movie, user])\n",
    "            else:\n",
    "                # If this is the case, predict the rating with the help of only the train dataset\n",
    "                predicted_rating = predict_rating(movie, user, neighborhood_size, sim_matrix, mu, utility_matrix, normalized_utility_matrix)\n",
    "                    \n",
    "                MAE += np.abs(predicted_rating - utility_matrix.iloc[movie, user])\n",
    "            counter += 1\n",
    "    \n",
    "    # Calculate the RMSE\n",
    "    MAE /= counter\n",
    "    \n",
    "    return MAE "
   ]
  },
  {
   "cell_type": "code",
   "execution_count": 105,
   "metadata": {},
   "outputs": [],
   "source": [
    "# Create new similarity matrix out of the training utility matrix\n",
    "sim_matrix_training, mu, normalized_utility_matrix = create_sim_matrix(training_data)"
   ]
  },
  {
   "cell_type": "code",
   "execution_count": 108,
   "metadata": {},
   "outputs": [
    {
     "name": "stdout",
     "output_type": "stream",
     "text": [
      "1.3192894831656001\n"
     ]
    }
   ],
   "source": [
    "mae_naive = calc_MAE(1, sim_matrix_training, mu, utility_matrix, normalized_utility_matrix, naive=True)\n",
    "print(mae_naive)"
   ]
  },
  {
   "cell_type": "code",
   "execution_count": 109,
   "metadata": {},
   "outputs": [],
   "source": [
    "# Calculates MAE for the collaborative filtering approach and a naive approach where the recommended rating \n",
    "# is just the mean of a movie\n",
    "results_cf = []\n",
    "\n",
    "# Small neighborhood sizes\n",
    "for neighborhood_size in range(1,15,3):\n",
    "    mae = calc_MAE(neighborhood_size, sim_matrix_training, mu, utility_matrix, normalized_utility_matrix, naive=False)\n",
    "    results_cf.append((neighborhood_size, mae))\n",
    "\n",
    "# Larger neighborhood sizes\n",
    "for neighborhood_size in range(15,40,5):\n",
    "    mae = calc_MAE(neighborhood_size, sim_matrix_training, mu, utility_matrix, normalized_utility_matrix, naive=False)\n",
    "    results_cf.append((neighborhood_size, mae))"
   ]
  },
  {
   "cell_type": "code",
   "execution_count": 110,
   "metadata": {},
   "outputs": [
    {
     "data": {
      "text/plain": [
       "<matplotlib.legend.Legend at 0x1a1cde7ac8>"
      ]
     },
     "execution_count": 110,
     "metadata": {},
     "output_type": "execute_result"
    },
    {
     "data": {
      "image/png": "[encoded data removed]",
      "text/plain": [
       "<Figure size 432x288 with 1 Axes>"
      ]
     },
     "metadata": {
      "needs_background": "light"
     },
     "output_type": "display_data"
    }
   ],
   "source": [
    "x = [i[0] for i in results_cf]\n",
    "y = [i[1] for i in results_cf]\n",
    "\n",
    "plt.hlines(mae_naive, xmin=0, xmax=35, label='Naive approach', colors='y')\n",
    "plt.plot(x, y, marker='s', label='Collaborative Filtering')\n",
    "plt.legend(loc='center right')"
   ]
  },
  {
   "cell_type": "markdown",
   "metadata": {},
   "source": [
    "The optimal neighborhood size is around 10. This corresponds to the evaluation of Sarwar et al. [2]:\n",
    "\n",
    "![Neighborhood size](images/neighborhood_size.png \"Neighborhood Size\")"
   ]
  },
  {
   "cell_type": "markdown",
   "metadata": {},
   "source": [
    "## Autoencoder"
   ]
  },
  {
   "cell_type": "markdown",
   "metadata": {},
   "source": [
    "**Note**: I'm not at all happy with my model, it seems that it performs equaly good as a naive approach (see evaluation of this model at the end). I think the problem is the sparsity of the input vectors. I tried to regularize the model and implemented a custom loss function, both approaches did not improve the model. Probably it would be best to incorporate the genre data into the movie vectors, so the data contains more valuable information."
   ]
  },
  {
   "cell_type": "markdown",
   "metadata": {},
   "source": [
    "### Preparation of training, validation and test data sets"
   ]
  },
  {
   "cell_type": "code",
   "execution_count": null,
   "metadata": {},
   "outputs": [],
   "source": [
    "import tensorflow as tf\n",
    "\n",
    "# Fixes Mac related problem with matplotlib / tensorflow version\n",
    "import os\n",
    "os.environ['KMP_DUPLICATE_LIB_OK']='True'"
   ]
  },
  {
   "cell_type": "code",
   "execution_count": 648,
   "metadata": {},
   "outputs": [],
   "source": [
    "# Load data from df and create utility matrix\n",
    "utility_matrix = df.pivot(index='movieId', columns='userId', values='rating')\n",
    "\n",
    "# Normalizing with mean rating\n",
    "mu = utility_matrix.mean(axis=1, skipna=True).reset_index(name='mu')\n",
    "\n",
    "mu = mu['mu'].values\n",
    "\n",
    "# Subtracting the mean from the ratings\n",
    "utility_matrix = utility_matrix.sub(mu, axis='rows')\n",
    "\n",
    "\n",
    "# Dimensions of the DataFrame and defining sizes of the different datasets -> training: 0.7, validation: 0.1, test:0.2\n",
    "num_movies = len(utility_matrix.index)\n",
    "num_users = len(utility_matrix.columns)\n",
    "withhold_user_size = int(num_users*0.3)\n",
    "\n",
    "test_set_size = int(num_movies*0.2)\n",
    "val_set_size = int(num_movies*0.1)\n",
    "train_set_size = num_movies - val_set_size - test_set_size\n",
    "\n",
    "# Test set\n",
    "utility_matrix_test = utility_matrix.iloc[:test_set_size,:]\n",
    "\n",
    "# Validation set\n",
    "utility_matrix_val = utility_matrix.iloc[test_set_size:test_set_size+val_set_size,:]\n",
    "\n",
    "# Training set\n",
    "utility_matrix_train = utility_matrix.iloc[test_set_size+val_set_size:,:]\n",
    "\n",
    "# Preparing the test set the same way as we did for the collaborative filtering approach\n",
    "utility_matrix_test_known_values = utility_matrix_test.iloc[:,:withhold_user_size]\n",
    "\n",
    "utility_matrix_test_withhold = utility_matrix_test \\\n",
    "                                        .subtract(utility_matrix_test_known_values) \\\n",
    "                                        .combine_first(utility_matrix_test) \\\n",
    "                                        .reindex_like(utility_matrix_test)\n",
    "\n",
    "\n",
    "# Fill NaN values with 0\n",
    "utility_matrix_test_withhold = utility_matrix_test_withhold.fillna(0)\n",
    "utility_matrix_train = utility_matrix_train.fillna(0)\n",
    "utility_matrix_val = utility_matrix_val.fillna(0)\n",
    "utility_matrix_test = utility_matrix_test.fillna(0)"
   ]
  },
  {
   "cell_type": "markdown",
   "metadata": {},
   "source": [
    "## Model"
   ]
  },
  {
   "cell_type": "code",
   "execution_count": 649,
   "metadata": {},
   "outputs": [],
   "source": [
    "from tensorflow.keras import backend as K\n",
    "from tensorflow.keras.layers import Input, Dense, Dropout\n",
    "from tensorflow.keras.models import load_model, Model\n",
    "from tensorflow.keras import regularizers\n",
    "from sklearn.metrics import mean_squared_error"
   ]
  },
  {
   "cell_type": "code",
   "execution_count": 650,
   "metadata": {},
   "outputs": [],
   "source": [
    "# The size of our encoded representations\n",
    "encoding_dim = 10 \n",
    "\n",
    "# This is our input placeholder\n",
    "input_item = Input(shape=(610, )) #9724\n",
    "\n",
    "# \"encoded\" is the encoded representation of the inputs\n",
    "encoded = Dense(encoding_dim * 10, activation='linear', activity_regularizer=regularizers.l1(10e-5))(input_item)\n",
    "encoded = Dropout(0.75)(encoded)\n",
    "encoded = Dense(encoding_dim, activation='relu')(encoded)\n",
    "\n",
    "# \"decoded\" is the lossy reconstruction of the input\n",
    "decoded = Dense(encoding_dim * 10, activation='relu')(encoded)\n",
    "decoded = Dense(610)(decoded)\n",
    "\n",
    "# This model maps an input to its reconstruction\n",
    "autoencoder = Model(input_item, decoded)"
   ]
  },
  {
   "cell_type": "code",
   "execution_count": 652,
   "metadata": {},
   "outputs": [],
   "source": [
    "# Separate Encoder model (may be of interest to see the encoded input)\n",
    "\n",
    "encoder = Model(input_item, encoded)\n",
    "\n",
    "# Separate Decoder model (may be of interest too)\n",
    "\n",
    "\n",
    "encoded_input = Input(shape=(encoding_dim, ))\n",
    "\n",
    "# Retrieve the layers of the autoencoder model\n",
    "decoder_layer1 = autoencoder.layers[-2]\n",
    "decoder_layer2 = autoencoder.layers[-1]\n",
    "\n",
    "# Create the decoder model\n",
    "decoder = Model(encoded_input, decoder_layer2(decoder_layer1(encoded_input)))"
   ]
  },
  {
   "cell_type": "code",
   "execution_count": 653,
   "metadata": {},
   "outputs": [],
   "source": [
    "# Adjusted loss function -> only take the mse of values where y_true != 0\n",
    "def adjusted_mean_squared_error(y_true, y_pred):\n",
    "\n",
    "    y_true = y_true * (y_true != 0) \n",
    "    y_pred = y_pred * (y_true != 0)\n",
    "\n",
    "    error = K.mean(K.square(y_pred - y_true), axis=-1)\n",
    "    return error"
   ]
  },
  {
   "cell_type": "code",
   "execution_count": 654,
   "metadata": {},
   "outputs": [
    {
     "name": "stdout",
     "output_type": "stream",
     "text": [
      "Train on 6808 samples, validate on 972 samples\n",
      "Epoch 1/50\n",
      " - 13s - loss: 0.0084 - val_loss: 0.0188\n",
      "Epoch 2/50\n",
      " - 1s - loss: 0.0082 - val_loss: 0.0187\n",
      "Epoch 3/50\n",
      " - 2s - loss: 0.0080 - val_loss: 0.0186\n",
      "Epoch 4/50\n",
      " - 1s - loss: 0.0079 - val_loss: 0.0186\n",
      "Epoch 5/50\n",
      " - 2s - loss: 0.0079 - val_loss: 0.0185\n",
      "Epoch 6/50\n",
      " - 2s - loss: 0.0078 - val_loss: 0.0185\n",
      "Epoch 7/50\n",
      " - 2s - loss: 0.0078 - val_loss: 0.0185\n",
      "Epoch 8/50\n",
      " - 2s - loss: 0.0078 - val_loss: 0.0185\n",
      "Epoch 9/50\n",
      " - 2s - loss: 0.0077 - val_loss: 0.0184\n",
      "Epoch 10/50\n",
      " - 2s - loss: 0.0077 - val_loss: 0.0184\n",
      "Epoch 11/50\n",
      " - 1s - loss: 0.0077 - val_loss: 0.0184\n",
      "Epoch 12/50\n",
      " - 2s - loss: 0.0077 - val_loss: 0.0184\n",
      "Epoch 13/50\n",
      " - 2s - loss: 0.0077 - val_loss: 0.0184\n",
      "Epoch 14/50\n",
      " - 2s - loss: 0.0076 - val_loss: 0.0184\n",
      "Epoch 15/50\n",
      " - 2s - loss: 0.0076 - val_loss: 0.0184\n",
      "Epoch 16/50\n",
      " - 1s - loss: 0.0076 - val_loss: 0.0184\n",
      "Epoch 17/50\n",
      " - 2s - loss: 0.0076 - val_loss: 0.0184\n",
      "Epoch 18/50\n",
      " - 2s - loss: 0.0076 - val_loss: 0.0184\n",
      "Epoch 19/50\n",
      " - 2s - loss: 0.0076 - val_loss: 0.0184\n",
      "Epoch 20/50\n",
      " - 2s - loss: 0.0076 - val_loss: 0.0184\n",
      "Epoch 21/50\n",
      " - 2s - loss: 0.0076 - val_loss: 0.0184\n",
      "Epoch 22/50\n",
      " - 2s - loss: 0.0076 - val_loss: 0.0184\n",
      "Epoch 23/50\n",
      " - 2s - loss: 0.0076 - val_loss: 0.0183\n",
      "Epoch 24/50\n",
      " - 2s - loss: 0.0076 - val_loss: 0.0183\n",
      "Epoch 25/50\n",
      " - 2s - loss: 0.0076 - val_loss: 0.0183\n",
      "Epoch 26/50\n",
      " - 2s - loss: 0.0076 - val_loss: 0.0183\n",
      "Epoch 27/50\n",
      " - 2s - loss: 0.0076 - val_loss: 0.0183\n",
      "Epoch 28/50\n",
      " - 2s - loss: 0.0076 - val_loss: 0.0183\n",
      "Epoch 29/50\n",
      " - 2s - loss: 0.0075 - val_loss: 0.0183\n",
      "Epoch 30/50\n",
      " - 2s - loss: 0.0075 - val_loss: 0.0183\n",
      "Epoch 31/50\n",
      " - 2s - loss: 0.0076 - val_loss: 0.0183\n",
      "Epoch 32/50\n",
      " - 2s - loss: 0.0075 - val_loss: 0.0183\n",
      "Epoch 33/50\n",
      " - 2s - loss: 0.0075 - val_loss: 0.0183\n",
      "Epoch 34/50\n",
      " - 2s - loss: 0.0075 - val_loss: 0.0183\n",
      "Epoch 35/50\n",
      " - 3s - loss: 0.0075 - val_loss: 0.0183\n",
      "Epoch 36/50\n",
      " - 2s - loss: 0.0075 - val_loss: 0.0183\n",
      "Epoch 37/50\n",
      " - 2s - loss: 0.0075 - val_loss: 0.0183\n",
      "Epoch 38/50\n",
      " - 2s - loss: 0.0075 - val_loss: 0.0183\n",
      "Epoch 39/50\n",
      " - 2s - loss: 0.0075 - val_loss: 0.0183\n",
      "Epoch 40/50\n",
      " - 2s - loss: 0.0075 - val_loss: 0.0183\n",
      "Epoch 41/50\n",
      " - 2s - loss: 0.0075 - val_loss: 0.0183\n",
      "Epoch 42/50\n",
      " - 2s - loss: 0.0075 - val_loss: 0.0183\n",
      "Epoch 43/50\n",
      " - 2s - loss: 0.0075 - val_loss: 0.0183\n",
      "Epoch 44/50\n",
      " - 1s - loss: 0.0075 - val_loss: 0.0183\n",
      "Epoch 45/50\n",
      " - 2s - loss: 0.0075 - val_loss: 0.0183\n",
      "Epoch 46/50\n",
      " - 2s - loss: 0.0075 - val_loss: 0.0183\n",
      "Epoch 47/50\n",
      " - 2s - loss: 0.0075 - val_loss: 0.0183\n",
      "Epoch 48/50\n",
      " - 2s - loss: 0.0075 - val_loss: 0.0183\n",
      "Epoch 49/50\n",
      " - 2s - loss: 0.0075 - val_loss: 0.0183\n",
      "Epoch 50/50\n",
      " - 3s - loss: 0.0075 - val_loss: 0.0183\n"
     ]
    }
   ],
   "source": [
    "# configure model to use a mean squared error loss, and the Adadelta optimizer\n",
    "autoencoder.compile(optimizer='adadelta', loss=adjusted_mean_squared_error)\n",
    "\n",
    "# Train autoencoder for 50 epochs with batch size of 100 samples\n",
    "my_epochs = 50\n",
    "autoencoder.fit(utility_matrix_train, utility_matrix_train, epochs=my_epochs, \n",
    "                batch_size=100, shuffle=True, validation_data=(utility_matrix_val, utility_matrix_val),\n",
    "                verbose=2)\n",
    "\n",
    "# Safe the model\n",
    "autoencoder.save('autoencoder.h5')\n"
   ]
  },
  {
   "cell_type": "code",
   "execution_count": 579,
   "metadata": {},
   "outputs": [],
   "source": [
    "# Here you can load the trained model\n",
    "autoencoder = load_model('autoencoder.h5', custom_objects={'adjusted_mean_squared_error': adjusted_mean_squared_error})"
   ]
  },
  {
   "cell_type": "markdown",
   "metadata": {},
   "source": [
    "### Calulate MAE of the autoencoder"
   ]
  },
  {
   "cell_type": "markdown",
   "metadata": {},
   "source": [
    "I use the MAE metric for evaluation of the autoencoder. "
   ]
  },
  {
   "cell_type": "code",
   "execution_count": null,
   "metadata": {},
   "outputs": [],
   "source": [
    "def calc_MAE_ae(predictions, test_set_original, withhold_ratings):\n",
    "    \n",
    "    MAE = 0\n",
    "    counter = 0\n",
    "    # For every movie and user of the withheld area\n",
    "    for movie in range(predictions.shape[0]):\n",
    "        for user in range(withhold_ratings):\n",
    "            \n",
    "            # Check if user rated movie in original dataset\n",
    "            if test_set_original.iloc[movie, user] == 0:\n",
    "                continue\n",
    "                \n",
    "            # If this is the case, update the MAE\n",
    "            MAE += np.abs((predictions[movie][user]) - (test_set_original.iloc[movie,user]))\n",
    "            counter += 1\n",
    "    \n",
    "    # Calculate the RMSE\n",
    "    MAE /= counter\n",
    "    \n",
    "    return MAE "
   ]
  },
  {
   "cell_type": "markdown",
   "metadata": {},
   "source": [
    "Autoencoder evaluation:"
   ]
  },
  {
   "cell_type": "code",
   "execution_count": 661,
   "metadata": {},
   "outputs": [
    {
     "name": "stdout",
     "output_type": "stream",
     "text": [
      "0.7364273025506585\n"
     ]
    }
   ],
   "source": [
    "ae_predictions = autoencoder.predict(utility_matrix_test_withhold)\n",
    "autoencoder_mae = calc_MAE_ae(ae_predictions, utility_matrix_test, withhold_user_size)\n",
    "print(autoencoder_mae)"
   ]
  },
  {
   "cell_type": "markdown",
   "metadata": {},
   "source": [
    "To compare this value with a \"random\" approach, in which \"the prediction\" is just the mean value of a movie, I use the MAE on a empty predictions matrix:"
   ]
  },
  {
   "cell_type": "code",
   "execution_count": 662,
   "metadata": {},
   "outputs": [
    {
     "name": "stdout",
     "output_type": "stream",
     "text": [
      "0.7377172587596565\n"
     ]
    }
   ],
   "source": [
    "naive_predictions = pd.DataFrame(0, columns=utility_matrix_test_withhold.columns, \n",
    "                                 index=utility_matrix_test_withhold.index) \\\n",
    "                                .values\n",
    "naive_mae = calc_MAE_ae(naive_predictions, utility_matrix_test, withhold_user_size)\n",
    "print(naive_mae)"
   ]
  },
  {
   "cell_type": "markdown",
   "metadata": {},
   "source": [
    "## Sources\n",
    "\n",
    "[1] F. Maxwell Harper and Joseph A. Konstan. 2015. The MovieLens Datasets: History and Context. ACM Transactions on Interactive Intelligent Systems (TiiS) 5, 4: 19:1–19:19. https://doi.org/10.1145/2827872\n",
    "\n",
    "[2] Sarwar, B. M., Karypis, G., Konstan, J. A., & Riedl, J. (2001). Item-based collaborative filtering recommendation algorithms. Www, 1, 285-295.\n",
    "\n",
    "[3] Leskovec, Rajaraman and Ullman: Lecture 45 — Evaluating Recommender Systems | Stanford University, https://www.youtube.com/watch?v=VZKMyTaLI00&t=264s\n"
   ]
  },
  {
   "cell_type": "code",
   "execution_count": null,
   "metadata": {},
   "outputs": [],
   "source": []
  }
 ],
 "metadata": {
  "kernelspec": {
   "display_name": "Python 3",
   "language": "python",
   "name": "python3"
  },
  "language_info": {
   "codemirror_mode": {
    "name": "ipython",
    "version": 3
   },
   "file_extension": ".py",
   "mimetype": "text/x-python",
   "name": "python",
   "nbconvert_exporter": "python",
   "pygments_lexer": "ipython3",
   "version": "3.7.1"
  }
 },
 "nbformat": 4,
 "nbformat_minor": 2
}
